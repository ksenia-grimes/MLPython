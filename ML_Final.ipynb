{
 "cells": [
  {
   "cell_type": "markdown",
   "metadata": {},
   "source": [
    "# Импорт библиотек и файлов"
   ]
  },
  {
   "cell_type": "code",
   "execution_count": null,
   "metadata": {},
   "outputs": [],
   "source": [
    "import numpy as np\n",
    "import pandas as pd"
   ]
  },
  {
   "cell_type": "code",
   "execution_count": null,
   "metadata": {},
   "outputs": [],
   "source": [
    "train = pd.read_csv(\"train.csv\")\n",
    "test = pd.read_csv(\"test.csv\")"
   ]
  },
  {
   "cell_type": "markdown",
   "metadata": {},
   "source": [
    "# Предобработка данных:\n",
    "## - Удаление столбцов\n",
    "## - Приведение текстовых данных в числовую форму (словарь)\n",
    "## - Замена NaN значений\n",
    "## - Приведение к одному типу объектов (int64)"
   ]
  },
  {
   "cell_type": "code",
   "execution_count": null,
   "metadata": {},
   "outputs": [],
   "source": [
    "# удаляем нерелевантный столбец\n",
    "train = train.drop('Utilities',axis=1)\n",
    "test = test.drop('Utilities',axis=1)"
   ]
  },
  {
   "cell_type": "code",
   "execution_count": null,
   "metadata": {},
   "outputs": [],
   "source": [
    "# деление обучающей и тестовой выборки на текстовые и числовые данные\n",
    "train1 = pd.DataFrame()\n",
    "train2 = pd.DataFrame()\n",
    "l = []\n",
    "r = []\n",
    "for i in train:\n",
    "    if(np.dtype(train[i])=='object'):\n",
    "        l.append(i)\n",
    "        train1[i]=train[i]\n",
    "    else:\n",
    "        train2[i]=train[i]\n",
    "    if(np.dtype(train[i])=='int64'):\n",
    "        r.append(i)"
   ]
  },
  {
   "cell_type": "code",
   "execution_count": null,
   "metadata": {},
   "outputs": [],
   "source": [
    "test1=pd.DataFrame()\n",
    "test2=pd.DataFrame()\n",
    "l=[]\n",
    "r=[]\n",
    "for i in test:\n",
    "    if(np.dtype(test[i])=='object'):\n",
    "        l.append(i)\n",
    "        test1[i]=test[i]\n",
    "    else:\n",
    "        test2[i]=test[i]\n",
    "    if(np.dtype(test[i])=='int64'):\n",
    "        r.append(i)"
   ]
  },
  {
   "cell_type": "code",
   "execution_count": null,
   "metadata": {},
   "outputs": [],
   "source": [
    "# заменяем текстовые данные числовыми при помощи словаря\n",
    "import ast\n",
    "import json\n",
    "file = open(\"dict_train.txt\", \"r\")\n",
    "\n",
    "contents = file.read()\n",
    "tik = json.loads(contents)"
   ]
  },
  {
   "cell_type": "code",
   "execution_count": null,
   "metadata": {},
   "outputs": [],
   "source": [
    "for column in tik:\n",
    "    train1[column] = train1[column].map(tik[column])\n",
    "for column in tik:\n",
    "    test1[column] = test1[column].map(tik[column])"
   ]
  },
  {
   "cell_type": "code",
   "execution_count": null,
   "metadata": {},
   "outputs": [],
   "source": [
    "#заполняем пустые ячейки\n",
    "train1 = train1.replace(np.nan, 0)\n",
    "test1 = test1.replace(np.nan, 0)\n",
    "train2 = train2.replace(np.nan, 0)\n",
    "test2 = test2.replace(np.nan, 0)"
   ]
  },
  {
   "cell_type": "code",
   "execution_count": null,
   "metadata": {},
   "outputs": [],
   "source": [
    "#соединяем обратно и унифицируем тип объекта\n",
    "train = train1.join(train2).astype('int64')\n",
    "test = test1.join(test2).astype('int64')"
   ]
  },
  {
   "cell_type": "code",
   "execution_count": null,
   "metadata": {},
   "outputs": [],
   "source": [
    "# финальная подготовка: удаляем из признаков столбец с ценами, от целевой переменной с ценами берем логарифм\n",
    "x = train.drop(['SalePrice'], axis=1)\n",
    "y = np.log(train['SalePrice'])\n",
    "z = test"
   ]
  },
  {
   "cell_type": "markdown",
   "metadata": {},
   "source": [
    "# <font color='green'> CatBoost <font>"
   ]
  },
  {
   "cell_type": "code",
   "execution_count": null,
   "metadata": {},
   "outputs": [],
   "source": [
    "from catboost import CatBoostRegressor\n",
    "cat = CatBoostRegressor(iterations=3000)\n",
    "cat.fit(x, y)\n",
    "pred_cat = cat.predict(z)\n",
    "final_cat=pd.DataFrame()\n",
    "final_cat['SalePrice'] = pred_cat"
   ]
  },
  {
   "cell_type": "code",
   "execution_count": null,
   "metadata": {},
   "outputs": [],
   "source": [
    "final=pd.DataFrame()\n",
    "final['Id'] = range(1461,2920)"
   ]
  },
  {
   "cell_type": "code",
   "execution_count": null,
   "metadata": {},
   "outputs": [],
   "source": [
    "#собираем в одну таблицу\n",
    "final=final.join(final_cat)"
   ]
  },
  {
   "cell_type": "code",
   "execution_count": null,
   "metadata": {},
   "outputs": [],
   "source": [
    "#антилогарифм\n",
    "final['SalePrice'] = np.exp(final['SalePrice'])"
   ]
  },
  {
   "cell_type": "code",
   "execution_count": null,
   "metadata": {},
   "outputs": [],
   "source": [
    "final.to_csv(\"final_test_catboost.csv\",index=False)"
   ]
  },
  {
   "cell_type": "markdown",
   "metadata": {},
   "source": [
    "##### Метрика = 0.12540"
   ]
  },
  {
   "cell_type": "markdown",
   "metadata": {},
   "source": [
    "# <font color = 'green'> XGBoost<font>"
   ]
  },
  {
   "cell_type": "code",
   "execution_count": null,
   "metadata": {},
   "outputs": [],
   "source": [
    "from xgboost import XGBRegressor\n",
    "xgb = XGBRegressor(base_score=0.4, booster='gbtree', colsample_bylevel=1,\n",
    "             colsample_bynode=1, colsample_bytree=0.4603, gamma=0.05,\n",
    "             gpu_id=-1, importance_type='gain', interaction_constraints='',\n",
    "             learning_rate=0.05, max_delta_step=0, max_depth=3,\n",
    "             min_child_weight=1.7817, monotone_constraints='()',\n",
    "             n_estimators=2200, n_jobs=4, nthread=-1, num_parallel_tree=1,\n",
    "             random_state=7, reg_alpha=0.464, reg_lambda=0.8571,\n",
    "             scale_pos_weight=1, subsample=0.5213,silent = True,tree_method='exact',\n",
    "             validate_parameters=1, verbosity=0)\n",
    "xgb.fit(x, y)\n",
    "xgb_pred = xgb.predict(z)\n",
    "\n",
    "final_xgb=pd.DataFrame()\n",
    "final_xgb['SalePrice'] = xgb_pred"
   ]
  },
  {
   "cell_type": "code",
   "execution_count": null,
   "metadata": {},
   "outputs": [],
   "source": [
    "final=pd.DataFrame()\n",
    "final['Id'] = range(1461,2920)"
   ]
  },
  {
   "cell_type": "code",
   "execution_count": null,
   "metadata": {},
   "outputs": [],
   "source": [
    "#собираем в одну таблицу\n",
    "final=final.join(final_xgb)"
   ]
  },
  {
   "cell_type": "code",
   "execution_count": null,
   "metadata": {},
   "outputs": [],
   "source": [
    "#антилогарифм\n",
    "final['SalePrice'] = np.exp(final['SalePrice'])"
   ]
  },
  {
   "cell_type": "code",
   "execution_count": null,
   "metadata": {},
   "outputs": [],
   "source": [
    "final.to_csv(\"final_test_Xgboost.csv\",index=False)"
   ]
  },
  {
   "cell_type": "markdown",
   "metadata": {},
   "source": [
    "##### Метрика = 0.12472"
   ]
  },
  {
   "cell_type": "markdown",
   "metadata": {},
   "source": [
    "# <font color = 'blue'> Плюшки (не использовались) <font>\n",
    "## Большой словарь"
   ]
  },
  {
   "cell_type": "code",
   "execution_count": null,
   "metadata": {},
   "outputs": [],
   "source": [
    "tok = {'RL':0, 'RM':1, 'C (all)':2, 'FV':3, 'RH':4,\n",
    "       'Pave':1, 'Grvl':2,\n",
    "       'Nothing':0,\n",
    "       'Reg':0,'IR1':1,'IR2':2,'IR3':3,\n",
    "       'Lvl':0,'Bnk':1,'Low':2,'HLS':3,\n",
    "       'AllPub':0,'NoSeWa':1,\n",
    "       'Inside':0,'FR2':1,'Corner':2,'CulDSac':3,'FR3':4,\n",
    "       'Gtl':0,'Mod':1,'Sev':2,\n",
    "       'CollgCr':0,'Veenker':1,'Crawfor':2,'NoRidge':3,'Mitchel':4,'Somerst':5,'NWAmes':6,'OldTown':7,'BrkSide':8,'Sawyer':9,\n",
    "       'NridgHt':10,'NAmes':11,'SawyerW':12,'IDOTRR':13,'MeadowV':14,'Edwards':15,'Timber':16,'Gilbert':17,'StoneBr':18,\n",
    "       'ClearCr':19,'NPkVill':20,'Blmngtn':21,'BrDale':22,'SWISU':23,'Blueste':24,\n",
    "       'Norm':0, 'Feedr':1, 'PosN':2, 'Artery':3, 'RRAe':4, 'RRNn':5, 'RRAn':6, 'PosA':7, 'RRNe':8,\n",
    "       '1Fam':0, '2fmCon':1, 'Duplex':2, 'TwnhsE':3, 'Twnhs':4,\n",
    "       '2Story':0, '1Story':1, '1.5Fin':2, '1.5Unf':3, 'SFoyer':4, 'SLvl':5, '2.5Unf':6, '2.5Fin':7,\n",
    "       'Gable':0, 'Hip':1, 'Gambrel':2, 'Mansard':3, 'Flat':4, 'Shed':5,\n",
    "       'CompShg':0,'WdShngl':1,'Metal':2,'WdShake':3,'Membran':4,'Tar&Grv':5,'Roll':6,'ClyTile':7,\n",
    "       'VinylSd':0,'MetalSd':1,'Wd Sdng':2, 'HdBoard':3, 'BrkFace':4, 'WdShing':5, 'CemntBd':6,'CmentBd':6,\n",
    "       'Plywood':7, 'AsbShng':8,'Stucco':9, 'BrkComm':10, 'AsphShn':11, 'Stone':12, 'ImStucc':13, 'CBlock':14, 'Wd Shng':15,\n",
    "       'Brk Cmn':16, 'Other':17, \n",
    "       'None':0,'BrkCmn':1,'0':5,\n",
    "       'Gd':0, 'TA':1, 'Ex':2, 'Fa':3, 'Po':4,\n",
    "       'PConc':0,'BrkTil':1,'Wood':2,'Slab':3,\n",
    "       'No':0,'Mn':1,'Av':2,\n",
    "       'GLQ':0, 'ALQ':1, 'Unf':2, 'Rec':3, 'BLQ':4, 'LwQ':6,\n",
    "       'GasA':0,'GasW':1,'Grav':2,'Wall':3,'OthW':4,'Floor':5,\n",
    "       'Y':0,'N':1,'P':2,\n",
    "       'SBrkr':0, 'FuseF':1, 'FuseA':2, 'FuseP':3, 'Mix':4,\n",
    "       'Typ':0, 'Min1':3, 'Maj1':4, 'Min2':5, 'Maj2':6,\n",
    "       'Attchd':0, 'Detchd':1, 'BuiltIn':2, 'CarPort':3, 'Basment':4, '2Types':6,\n",
    "       'RFn':0, 'Fin':1,\n",
    "       'MnPrv':0,'GdWo':1,'GdPrv':2,'MnWw':3,\n",
    "       'Gar2':0,'Othr':1,'TenC':2,\n",
    "       'WD':0, 'New':1, 'COD':2, 'ConLD':3, 'ConLI':4, 'CWD':5, 'ConLw':6, 'Con':7, 'Oth':8,\n",
    "       'Normal':0, 'Abnorml':1, 'Partial':2, 'AdjLand':3, 'Alloca':4, 'Family':5\n",
    "       \n",
    "      }\n",
    "\n",
    "train1 = train1.replace(tok)\n",
    "test1 = test1.replace(tok)\n",
    "\n",
    "train = train1.join(train2)\n",
    "test = test1.join(test2)"
   ]
  },
  {
   "cell_type": "markdown",
   "metadata": {},
   "source": [
    "## Удаление выбросов"
   ]
  },
  {
   "cell_type": "code",
   "execution_count": null,
   "metadata": {},
   "outputs": [],
   "source": [
    "from scipy.stats import zscore\n",
    "from scipy import stats\n",
    "z_scores = stats.zscore(train['SalePrice'])"
   ]
  },
  {
   "cell_type": "code",
   "execution_count": null,
   "metadata": {},
   "outputs": [],
   "source": [
    "abs_z_scores = np.abs(z_scores)\n",
    "filtered_entries = (abs_z_scores < 3)\n",
    "new_train = train[filtered_entries]"
   ]
  },
  {
   "cell_type": "code",
   "execution_count": null,
   "metadata": {},
   "outputs": [],
   "source": [
    "x = new_train.drop(['SalePrice'], axis=1)\n",
    "y = new_train['SalePrice']\n",
    "z = test"
   ]
  },
  {
   "cell_type": "markdown",
   "metadata": {},
   "source": [
    "## Удаление столбцов, где NA >1000"
   ]
  },
  {
   "cell_type": "code",
   "execution_count": null,
   "metadata": {},
   "outputs": [],
   "source": [
    "null=train.loc[:,train.isnull().sum()>1100]\n",
    "train.drop(null,inplace=True,axis=1)\n",
    "null=test.loc[:,test.isnull().sum()>1100]\n",
    "test.drop(null,inplace=True,axis=1)"
   ]
  },
  {
   "cell_type": "markdown",
   "metadata": {},
   "source": [
    "####  Если нужно удалить вложенный словарь"
   ]
  },
  {
   "cell_type": "code",
   "execution_count": null,
   "metadata": {},
   "outputs": [],
   "source": [
    "del tik['Alley']\n",
    "del tik ['PoolQC']\n",
    "del tik ['Fence']\n",
    "del tik ['MiscFeature']"
   ]
  }
 ],
 "metadata": {
  "kernelspec": {
   "display_name": "Python 3",
   "language": "python",
   "name": "python3"
  },
  "language_info": {
   "codemirror_mode": {
    "name": "ipython",
    "version": 3
   },
   "file_extension": ".py",
   "mimetype": "text/x-python",
   "name": "python",
   "nbconvert_exporter": "python",
   "pygments_lexer": "ipython3",
   "version": "3.8.3"
  }
 },
 "nbformat": 4,
 "nbformat_minor": 4
}
